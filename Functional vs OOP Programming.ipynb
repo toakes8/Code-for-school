{
 "cells": [
  {
   "cell_type": "code",
   "execution_count": 1,
   "metadata": {},
   "outputs": [
    {
     "name": "stdout",
     "output_type": "stream",
     "text": [
      "[25, 16, 9]\n"
     ]
    }
   ],
   "source": [
    "my_list = [5,4,3]\n",
    "\n",
    "new_list = list(map(lambda num: num**2, my_list))\n",
    "print(new_list)\n",
    "\n",
    "#square the list with lambda expression\n",
    "\n"
   ]
  },
  {
   "cell_type": "code",
   "execution_count": 3,
   "metadata": {},
   "outputs": [
    {
     "name": "stdout",
     "output_type": "stream",
     "text": [
      "[(10, -1), (0, 2), (4, 3), (9, 9)]\n"
     ]
    }
   ],
   "source": [
    "\n",
    "#list sorting based on second value in list\n",
    "\n",
    "a = [(0,2), (4,3), (9,9), (10,-1)]\n",
    "a.sort(key=lambda x: x[1])\n",
    "print(a)"
   ]
  }
 ],
 "metadata": {
  "kernelspec": {
   "display_name": "Python 3.10.7 64-bit",
   "language": "python",
   "name": "python3"
  },
  "language_info": {
   "codemirror_mode": {
    "name": "ipython",
    "version": 3
   },
   "file_extension": ".py",
   "mimetype": "text/x-python",
   "name": "python",
   "nbconvert_exporter": "python",
   "pygments_lexer": "ipython3",
   "version": "3.10.7"
  },
  "orig_nbformat": 4,
  "vscode": {
   "interpreter": {
    "hash": "770e393a441e0b2dacc3d1f768e9d10fcd8206131ab4f664098d639b0db16bd0"
   }
  }
 },
 "nbformat": 4,
 "nbformat_minor": 2
}
