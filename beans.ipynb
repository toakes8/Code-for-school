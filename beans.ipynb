{
 "cells": [
  {
   "cell_type": "code",
   "execution_count": null,
   "metadata": {},
   "outputs": [],
   "source": [
    "minutes = 60\n",
    "hour = 60\n",
    "seconds_per_minute = 60\n",
    "seconds_per_hour = 0\n",
    "seconds_per_day = 0\n",
    "\n",
    "seconds_per_hour = (seconds_per_minute * 60)\n",
    "seconds_per_day = (seconds_per_hour * 24)\n",
    "\n",
    "seconds_per_day\n"
   ]
  }
 ],
 "metadata": {
  "language_info": {
   "name": "python"
  },
  "orig_nbformat": 4
 },
 "nbformat": 4,
 "nbformat_minor": 2
}
