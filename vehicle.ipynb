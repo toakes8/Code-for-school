{
 "cells": [
  {
   "cell_type": "code",
   "execution_count": 2,
   "metadata": {},
   "outputs": [
    {
     "name": "stdout",
     "output_type": "stream",
     "text": [
      "vehicle type\n",
      "car\n",
      "car year\n",
      "2022\n",
      "car make\n",
      "toyota\n",
      "car model\n",
      "corella\n",
      "car doors\n",
      "2\n",
      "roof type\n",
      "sun\n"
     ]
    }
   ],
   "source": [
    "class Vehicle:\n",
    "    def __init__(self, Car, truck, plane, boat, broomstick):\n",
    "        self.__Car = Car\n",
    "        self.__truck = truck\n",
    "        self.__plane = plane\n",
    "        self.__boat = boat\n",
    "        self.__broomstick = broomstick\n",
    "    \n",
    "    def set_car(self, car):\n",
    "        self.__car = car\n",
    "\n",
    "    def set_truck(self, truck):\n",
    "        self.__truck = truck\n",
    "\n",
    "class Car:\n",
    "    def __init__(self, year, make, model, doors, roof):\n",
    "        self.__year_model = year\n",
    "        self.__make = make\n",
    "        self.__model = model\n",
    "        self.__doors = doors\n",
    "        self.__roof = roof\n",
    "\n",
    "    def set_year_model(self, year):\n",
    "        self.__year_model = year\n",
    "\n",
    "    def set_make(self, make):\n",
    "        self.__make = make\n",
    "\n",
    "    def set_model(self, model):\n",
    "        self.__model = 0\n",
    "\n",
    "    def set_doors(self, doors):\n",
    "        self.__doors = doors\n",
    "\n",
    "    def set_roof(self, roof):\n",
    "        self.__roof = roof\n",
    "\n",
    "    def get_year_model(self):\n",
    "        return self.__year_model\n",
    "\n",
    "    def get_make(self):\n",
    "        return self.__make\n",
    "\n",
    "    def get_model(self):\n",
    "        return self.__model\n",
    "\n",
    "    def get_doors(self):\n",
    "        return self.__doors\n",
    "\n",
    "    def get_roof(self):\n",
    "        return self.__roof\n",
    "\n",
    "def main():\n",
    "    Vehicle = input('Enter vehicle type')\n",
    "    year = input('Enter the car year: ')\n",
    "    make = input('Enter the car make: ')\n",
    "    model = input('Enter the cars model')\n",
    "    doors = input('Enter amount of car doors')\n",
    "    roof = input('Enter roof type *sun roof or no roof')\n",
    "\n",
    "    mycar = Car(year, make, model, roof, doors)\n",
    "\n",
    "    print (\"vehicle type\")\n",
    "    print (Vehicle) \n",
    "    print (\"car year\")\n",
    "    print (year) \n",
    "    print (\"car make\")\n",
    "    print (make)\n",
    "    print (\"car model\")\n",
    "    print (model)\n",
    "    print (\"car doors\")\n",
    "    print (doors)\n",
    "    print (\"roof type\")\n",
    "    print (roof)\n",
    "\n",
    "\n",
    "main()"
   ]
  }
 ],
 "metadata": {
  "kernelspec": {
   "display_name": "Python 3.10.7 64-bit",
   "language": "python",
   "name": "python3"
  },
  "language_info": {
   "codemirror_mode": {
    "name": "ipython",
    "version": 3
   },
   "file_extension": ".py",
   "mimetype": "text/x-python",
   "name": "python",
   "nbconvert_exporter": "python",
   "pygments_lexer": "ipython3",
   "version": "3.10.7"
  },
  "orig_nbformat": 4,
  "vscode": {
   "interpreter": {
    "hash": "770e393a441e0b2dacc3d1f768e9d10fcd8206131ab4f664098d639b0db16bd0"
   }
  }
 },
 "nbformat": 4,
 "nbformat_minor": 2
}
